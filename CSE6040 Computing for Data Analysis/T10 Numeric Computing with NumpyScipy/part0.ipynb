{
  "cells": [
    {
      "cell_type": "markdown",
      "source": [
        "# Part 0: Intro to Numpy/Scipy\n",
        "\n",
        "[Numpy](http://www.numpy.org/) is a Python module that provides fast primitives for multidimensional arrays. It's well-suited to implementing numerical linear algebra algorithms, and for those can be much faster than Python's native list and dictionary types when you only need to store and operate on numerical data.\n",
        "\n",
        "Some of the material from this lesson is copied from the following, and more comprehensive, tutorial: [link](http://www.scipy-lectures.org/intro/numpy/index.html)"
      ],
      "metadata": {
        "deletable": false,
        "editable": false,
        "nbgrader": {
          "grade": false,
          "grade_id": "cell-d95c49d43afa9cf5",
          "locked": true,
          "schema_version": 1,
          "solution": false
        }
      }
    },
    {
      "cell_type": "markdown",
      "source": [
        "**Quick demo.** The recommended importing idiom is:"
      ],
      "metadata": {
        "deletable": false,
        "editable": false,
        "nbgrader": {
          "grade": false,
          "grade_id": "cell-8d1656231e9af5be",
          "locked": true,
          "schema_version": 1,
          "solution": false
        }
      }
    },
    {
      "cell_type": "code",
      "source": [
        "import numpy as np\n",
        "print(np.__version__)"
      ],
      "outputs": [
        {
          "output_type": "stream",
          "name": "stdout",
          "text": [
            "1.16.1\n"
          ]
        }
      ],
      "execution_count": 1,
      "metadata": {
        "deletable": false,
        "editable": false,
        "nbgrader": {
          "grade": false,
          "grade_id": "cell-846ef2892d749d83",
          "locked": true,
          "schema_version": 1,
          "solution": false
        }
      }
    },
    {
      "cell_type": "markdown",
      "source": [
        "## Creating a simple numpy array"
      ],
      "metadata": {
        "deletable": false,
        "editable": false,
        "nbgrader": {
          "grade": false,
          "grade_id": "cell-5a7dbee2c730c482",
          "locked": true,
          "schema_version": 1,
          "solution": false
        }
      }
    },
    {
      "cell_type": "code",
      "source": [
        "a = np.array([1,2,3,4])\n",
        "print(a)"
      ],
      "outputs": [
        {
          "output_type": "stream",
          "name": "stdout",
          "text": [
            "[1 2 3 4]\n"
          ]
        }
      ],
      "execution_count": 2,
      "metadata": {
        "deletable": false,
        "editable": false,
        "nbgrader": {
          "grade": false,
          "locked": true,
          "solution": false
        }
      }
    },
    {
      "cell_type": "markdown",
      "source": [
        "## Why bother with Numpy? A motivating example\n",
        "\n",
        "We already have lists and dictionary types, which are pretty easy to use and very flexible. So why bother with this special type?\n",
        "\n",
        "**Exercise 0** (ungraded). One reason to consider Numpy is that it \"can be much faster,\" as noted above. But how much faster is that? Run the experiment below to see."
      ],
      "metadata": {
        "deletable": false,
        "editable": false,
        "nbgrader": {
          "grade": false,
          "locked": true,
          "solution": false
        }
      }
    },
    {
      "cell_type": "code",
      "source": [
        "n = 1000000"
      ],
      "outputs": [],
      "execution_count": 3,
      "metadata": {
        "collapsed": true,
        "deletable": false,
        "editable": false,
        "nbgrader": {
          "grade": false,
          "locked": true,
          "solution": false
        }
      }
    },
    {
      "cell_type": "code",
      "source": [
        "L = range(n)\n",
        "%timeit [i**2 for i in L]"
      ],
      "outputs": [
        {
          "output_type": "stream",
          "name": "stdout",
          "text": [
            "276 ms ± 801 µs per loop (mean ± std. dev. of 7 runs, 1 loop each)\n"
          ]
        }
      ],
      "execution_count": 4,
      "metadata": {
        "deletable": false,
        "editable": false,
        "nbgrader": {
          "grade": false,
          "locked": true,
          "solution": false
        }
      }
    },
    {
      "cell_type": "code",
      "source": [
        "np.arange(10) # Moral equivalent to `range`"
      ],
      "outputs": [
        {
          "output_type": "execute_result",
          "execution_count": 5,
          "data": {
            "text/plain": [
              "array([0, 1, 2, 3, 4, 5, 6, 7, 8, 9])"
            ]
          },
          "metadata": {}
        }
      ],
      "execution_count": 5,
      "metadata": {
        "deletable": false,
        "editable": false,
        "nbgrader": {
          "grade": false,
          "locked": true,
          "solution": false
        }
      }
    },
    {
      "cell_type": "code",
      "source": [
        "A = np.arange(n)\n",
        "%timeit A**2"
      ],
      "outputs": [
        {
          "output_type": "stream",
          "name": "stdout",
          "text": [
            "741 µs ± 8.47 µs per loop (mean ± std. dev. of 7 runs, 1000 loops each)\n"
          ]
        }
      ],
      "execution_count": 6,
      "metadata": {
        "deletable": false,
        "editable": false,
        "nbgrader": {
          "grade": false,
          "locked": true,
          "solution": false
        }
      }
    },
    {
      "cell_type": "markdown",
      "source": [
        "## Creating multidimensional arrays\n",
        "\n",
        "Beyond simple arrays, Numpy supports multidimensional arrays. To do more than one dimension, call `numpy.array()` but nest each new dimension within a list. It's easiest to see by example."
      ],
      "metadata": {
        "deletable": false,
        "editable": false,
        "nbgrader": {
          "grade": false,
          "grade_id": "cell-5783a1fb911dd611",
          "locked": true,
          "schema_version": 1,
          "solution": false
        }
      }
    },
    {
      "cell_type": "code",
      "source": [
        "# Create a two-dimensional array of size 3 rows x 4 columns:\n",
        "B = np.array([[0, 1, 2, 3],\n",
        "              [4, 5, 6, 7],\n",
        "              [8, 9, 10, 11]])\n",
        "\n",
        "print(B)"
      ],
      "outputs": [
        {
          "output_type": "stream",
          "name": "stdout",
          "text": [
            "[[ 0  1  2  3]\n",
            " [ 4  5  6  7]\n",
            " [ 8  9 10 11]]\n"
          ]
        }
      ],
      "execution_count": 7,
      "metadata": {
        "deletable": false,
        "editable": false,
        "nbgrader": {
          "grade": false,
          "locked": true,
          "solution": false
        }
      }
    },
    {
      "cell_type": "code",
      "source": [
        "print(B.ndim) # What does this do?\n",
        "print(B.shape) # What does this do?\n",
        "print(len (B)) # What does this do?"
      ],
      "outputs": [
        {
          "output_type": "stream",
          "name": "stdout",
          "text": [
            "2\n",
            "(3, 4)\n",
            "3\n"
          ]
        }
      ],
      "execution_count": 8,
      "metadata": {
        "deletable": false,
        "editable": false,
        "nbgrader": {
          "grade": false,
          "locked": true,
          "solution": false
        }
      }
    },
    {
      "cell_type": "code",
      "source": [
        "C1 = [[0, 1, 2, 3],\n",
        "      [4, 5, 6, 7],\n",
        "      [8, 9, 10, 11]]\n",
        "\n",
        "C2 = [[12, 13, 14, 15],\n",
        "      [16, 17, 18, 19],\n",
        "      [20, 21, 22, 23]]\n",
        "\n",
        "C = np.array([C1, C2])\n",
        "\n",
        "print(C)\n",
        "print(C.ndim)\n",
        "print(C.shape)\n",
        "print(len (C))"
      ],
      "outputs": [
        {
          "output_type": "stream",
          "name": "stdout",
          "text": [
            "[[[ 0  1  2  3]\n",
            "  [ 4  5  6  7]\n",
            "  [ 8  9 10 11]]\n",
            "\n",
            " [[12 13 14 15]\n",
            "  [16 17 18 19]\n",
            "  [20 21 22 23]]]\n",
            "3\n",
            "(2, 3, 4)\n",
            "2\n"
          ]
        }
      ],
      "execution_count": 9,
      "metadata": {
        "deletable": false,
        "editable": false,
        "nbgrader": {
          "grade": false,
          "locked": true,
          "solution": false
        }
      }
    },
    {
      "cell_type": "markdown",
      "source": [
        "There are routines for creating various kinds of structured matrices as well, which are similar to those found in [MATLAB](http://www.mathworks.com/products/matlab/) and [Octave](https://www.gnu.org/software/octave/)."
      ],
      "metadata": {
        "deletable": false,
        "editable": false,
        "nbgrader": {
          "grade": false,
          "locked": true,
          "solution": false
        }
      }
    },
    {
      "cell_type": "code",
      "source": [
        "print(np.zeros((3, 4)))"
      ],
      "outputs": [
        {
          "output_type": "stream",
          "name": "stdout",
          "text": [
            "[[0. 0. 0. 0.]\n",
            " [0. 0. 0. 0.]\n",
            " [0. 0. 0. 0.]]\n"
          ]
        }
      ],
      "execution_count": 10,
      "metadata": {
        "deletable": false,
        "editable": false,
        "nbgrader": {
          "grade": false,
          "locked": true,
          "solution": false
        }
      }
    },
    {
      "cell_type": "code",
      "source": [
        "print(np.ones((3, 4)))"
      ],
      "outputs": [
        {
          "output_type": "stream",
          "name": "stdout",
          "text": [
            "[[1. 1. 1. 1.]\n",
            " [1. 1. 1. 1.]\n",
            " [1. 1. 1. 1.]]\n"
          ]
        }
      ],
      "execution_count": 11,
      "metadata": {
        "deletable": false,
        "editable": false,
        "nbgrader": {
          "grade": false,
          "locked": true,
          "solution": false
        }
      }
    },
    {
      "cell_type": "code",
      "source": [
        "print(np.eye(3))"
      ],
      "outputs": [
        {
          "output_type": "stream",
          "name": "stdout",
          "text": [
            "[[1. 0. 0.]\n",
            " [0. 1. 0.]\n",
            " [0. 0. 1.]]\n"
          ]
        }
      ],
      "execution_count": 12,
      "metadata": {
        "deletable": false,
        "editable": false,
        "nbgrader": {
          "grade": false,
          "locked": true,
          "solution": false
        }
      }
    },
    {
      "cell_type": "code",
      "source": [
        "print(np.diag([1, 2, 3]))"
      ],
      "outputs": [
        {
          "output_type": "stream",
          "name": "stdout",
          "text": [
            "[[1 0 0]\n",
            " [0 2 0]\n",
            " [0 0 3]]\n"
          ]
        }
      ],
      "execution_count": 13,
      "metadata": {
        "deletable": false,
        "editable": false,
        "nbgrader": {
          "grade": false,
          "locked": true,
          "solution": false
        }
      }
    },
    {
      "cell_type": "markdown",
      "source": [
        "You can also create empty (uninitialized) arrays. What does the following produce?"
      ],
      "metadata": {
        "deletable": false,
        "editable": false,
        "nbgrader": {
          "grade": false,
          "locked": true,
          "solution": false
        }
      }
    },
    {
      "cell_type": "code",
      "source": [
        "A = np.empty((3, 4)) # An \"empty\" 3 x 4 matrix\n",
        "print(A)"
      ],
      "outputs": [
        {
          "output_type": "stream",
          "name": "stdout",
          "text": [
            "[[1. 1. 1. 1.]\n",
            " [1. 1. 1. 1.]\n",
            " [1. 1. 1. 1.]]\n"
          ]
        }
      ],
      "execution_count": 14,
      "metadata": {
        "deletable": false,
        "editable": false,
        "nbgrader": {
          "grade": false,
          "locked": true,
          "solution": false
        }
      }
    },
    {
      "cell_type": "markdown",
      "source": [
        "**Exercise 1** (ungraded). The following code creates an identity matrix in two different ways, which are found to be equal according to the assertion. But in fact there is a subtle difference between the `I` and `I_u` matrices created below; can you spot it?"
      ],
      "metadata": {
        "deletable": false,
        "editable": false,
        "nbgrader": {
          "grade": false,
          "locked": true,
          "solution": false
        }
      }
    },
    {
      "cell_type": "code",
      "source": [
        "n = 3\n",
        "I = np.eye(n)\n",
        "\n",
        "print(\"==> I = eye(n):\")\n",
        "print(I)\n",
        "\n",
        "u = [1] * n\n",
        "I_u = np.diag(u)\n",
        "\n",
        "print(\"\\n==> u:\\n\", u)\n",
        "print(\"==> I_u = diag (u):\\n\", I_u)\n",
        "\n",
        "assert np.all(I_u == I)"
      ],
      "outputs": [
        {
          "output_type": "stream",
          "name": "stdout",
          "text": [
            "==> I = eye(n):\n",
            "[[1. 0. 0.]\n",
            " [0. 1. 0.]\n",
            " [0. 0. 1.]]\n",
            "\n",
            "==> u:\n",
            " [1, 1, 1]\n",
            "==> I_u = diag (u):\n",
            " [[1 0 0]\n",
            " [0 1 0]\n",
            " [0 0 1]]\n"
          ]
        }
      ],
      "execution_count": 15,
      "metadata": {
        "deletable": false,
        "editable": false,
        "nbgrader": {
          "grade": false,
          "locked": true,
          "solution": false
        }
      }
    },
    {
      "cell_type": "code",
      "source": [
        "I_u.dtype"
      ],
      "outputs": [
        {
          "output_type": "execute_result",
          "execution_count": 16,
          "data": {
            "text/plain": [
              "dtype('int64')"
            ]
          },
          "metadata": {}
        }
      ],
      "execution_count": 16,
      "metadata": {}
    },
    {
      "cell_type": "code",
      "source": [
        "I.dtype"
      ],
      "outputs": [
        {
          "output_type": "execute_result",
          "execution_count": 17,
          "data": {
            "text/plain": [
              "dtype('float64')"
            ]
          },
          "metadata": {}
        }
      ],
      "execution_count": 17,
      "metadata": {}
    },
    {
      "cell_type": "markdown",
      "source": [
        "**Answer.** Give this some thought before you read the answer that follows!\n",
        "\n",
        "The difference is in the element types. The `eye()` function returns an identity matrix and uses a floating-point type as the element type. By contrast, `diag()`, which expects a list of initializer values upon input, derives the element type from that input. In this case, `u` contains values that will be stored as integers; therefore, `diag()` constructs its output assuming integer elements.\n",
        "\n",
        "Try running `print(I_u.dtype)` and `print(I.dtype)` to confirm that these element types differ."
      ],
      "metadata": {
        "deletable": false,
        "editable": false,
        "nbgrader": {
          "grade": false,
          "locked": true,
          "solution": false
        }
      }
    },
    {
      "cell_type": "markdown",
      "source": [
        "## Indexing and slicing\n",
        "\n",
        "The usual 0-based slicing and indexing notation you know and love from lists is also supported for Numpy arrays. In the multidimensional case,  including their natural multidimensional analogues with index ranges separated by commas."
      ],
      "metadata": {
        "deletable": false,
        "editable": false,
        "nbgrader": {
          "grade": false,
          "locked": true,
          "solution": false
        }
      }
    },
    {
      "cell_type": "code",
      "source": [
        "# Recall: C\n",
        "print (C)"
      ],
      "outputs": [
        {
          "output_type": "stream",
          "name": "stdout",
          "text": [
            "[[[ 0  1  2  3]\n",
            "  [ 4  5  6  7]\n",
            "  [ 8  9 10 11]]\n",
            "\n",
            " [[12 13 14 15]\n",
            "  [16 17 18 19]\n",
            "  [20 21 22 23]]]\n"
          ]
        }
      ],
      "execution_count": 18,
      "metadata": {
        "deletable": false,
        "editable": false,
        "nbgrader": {
          "grade": false,
          "locked": true,
          "solution": false
        }
      }
    },
    {
      "cell_type": "markdown",
      "source": [
        "What part of C will the following slice extract? Run the code to find out."
      ],
      "metadata": {
        "deletable": false,
        "editable": false,
        "nbgrader": {
          "grade": false,
          "locked": true,
          "solution": false
        }
      }
    },
    {
      "cell_type": "code",
      "source": [
        "print (C[0, 2, :])"
      ],
      "outputs": [
        {
          "output_type": "stream",
          "name": "stdout",
          "text": [
            "[ 8  9 10 11]\n"
          ]
        }
      ],
      "execution_count": 19,
      "metadata": {
        "deletable": false,
        "editable": false,
        "nbgrader": {
          "grade": false,
          "locked": true,
          "solution": false
        }
      }
    },
    {
      "cell_type": "markdown",
      "source": [
        "What will the following slice return? Run the code to find out."
      ],
      "metadata": {
        "deletable": false,
        "editable": false,
        "nbgrader": {
          "grade": false,
          "locked": true,
          "solution": false
        }
      }
    },
    {
      "cell_type": "code",
      "source": [
        "print (C[1, 0, ::-1])"
      ],
      "outputs": [
        {
          "output_type": "stream",
          "name": "stdout",
          "text": [
            "[15 14 13 12]\n"
          ]
        }
      ],
      "execution_count": 20,
      "metadata": {
        "deletable": false,
        "editable": false,
        "nbgrader": {
          "grade": false,
          "locked": true,
          "solution": false
        }
      }
    },
    {
      "cell_type": "markdown",
      "source": [
        "**Exercise 2** (5 points). Consider the following $6 \\times 6$ matrix, which has 4 different subsets highlighted.\n",
        "\n",
        "<img src=\"https://github.com/cse6040/labs-fa17/raw/master/lab10-numpy/slicing-exercise.png\" alt=\"Exercise: Extract these slices\" width=\"240\">\n",
        "\n",
        "For each subset illustrated above, write an indexing or slicing expression that extracts the subset. Store the result of each slice into `Z_green`, `Z_red`, `Z_orange`, and `Z_cyan`."
      ],
      "metadata": {
        "deletable": false,
        "editable": false,
        "nbgrader": {
          "grade": false,
          "locked": true,
          "solution": false
        }
      }
    },
    {
      "cell_type": "code",
      "source": [
        "Z= np.array([[0,1,2,3,4,5],[10,11,12,13,14,15],[20,21,22,23,24,25],[30,31,32,33,34,35],[40,41,42,43,44,45],[50,51,52,53,54,55]])\n",
        "\n",
        "# Construct `Z_green`, `Z_red`, `Z_orange`, and `Z_cyan`:\n",
        "###\n",
        "### YOUR CODE HERE\n",
        "###\n",
        "Z_green = Z[[2,4], ::2]\n",
        "Z_red = Z[:,2]\n",
        "Z_orange = Z[0,3:5]\n",
        "Z_cyan = Z[4:,4:]"
      ],
      "outputs": [],
      "execution_count": 21,
      "metadata": {
        "collapsed": true,
        "deletable": false,
        "nbgrader": {
          "checksum": "11e5e133ff5caee1a7562795f3d26d2e",
          "grade": false,
          "grade_id": "create_Z",
          "locked": false,
          "schema_version": 1,
          "solution": true
        }
      }
    },
    {
      "cell_type": "code",
      "source": [
        "# Test cell: `check_Z`\n",
        "\n",
        "print(\"==> Z:\\n\", Z)\n",
        "assert (Z == np.array([np.arange(0, 6),\n",
        "                       np.arange(10, 16),\n",
        "                       np.arange(20, 26),\n",
        "                       np.arange(30, 36),\n",
        "                       np.arange(40, 46),\n",
        "                       np.arange(50, 56)])).all()\n",
        "\n",
        "print(\"\\n==> Orange slice:\\n\", Z_orange)\n",
        "assert (Z_orange == np.array ([3, 4])).all()\n",
        "\n",
        "print(\"\\n==> Red slice:\\n\", Z_red)\n",
        "assert (Z_red == np.array ([2, 12, 22, 32, 42, 52])).all()\n",
        "\n",
        "print(\"\\n==> Cyan slice:\\n\", Z_cyan)\n",
        "assert (Z_cyan == np.array ([[44, 45], [54, 55]])).all()\n",
        "\n",
        "print(\"\\n==> Green slice:\\n\", Z_green)\n",
        "assert (Z_green == np.array ([[20, 22, 24], [40, 42, 44]])).all()\n",
        "\n",
        "print(\"\\n(Passed!)\")"
      ],
      "outputs": [
        {
          "output_type": "stream",
          "name": "stdout",
          "text": [
            "==> Z:\n",
            " [[ 0  1  2  3  4  5]\n",
            " [10 11 12 13 14 15]\n",
            " [20 21 22 23 24 25]\n",
            " [30 31 32 33 34 35]\n",
            " [40 41 42 43 44 45]\n",
            " [50 51 52 53 54 55]]\n",
            "\n",
            "==> Orange slice:\n",
            " [3 4]\n",
            "\n",
            "==> Red slice:\n",
            " [ 2 12 22 32 42 52]\n",
            "\n",
            "==> Cyan slice:\n",
            " [[44 45]\n",
            " [54 55]]\n",
            "\n",
            "==> Green slice:\n",
            " [[20 22 24]\n",
            " [40 42 44]]\n",
            "\n",
            "(Passed!)\n"
          ]
        }
      ],
      "execution_count": 22,
      "metadata": {
        "deletable": false,
        "editable": false,
        "nbgrader": {
          "checksum": "5ba2d769c7f7534e17eab32ec1e3d2c8",
          "grade": true,
          "grade_id": "check_Z",
          "locked": true,
          "points": 5,
          "schema_version": 1,
          "solution": false
        }
      }
    },
    {
      "cell_type": "markdown",
      "source": [
        "## Slices are views\n",
        "\n",
        "To help save memory, when you slice a Numpy array, you are actually creating a _view_ into that array. That means modifications through the view will modify the original array."
      ],
      "metadata": {
        "deletable": false,
        "editable": false,
        "nbgrader": {
          "grade": false,
          "locked": true,
          "solution": false
        }
      }
    },
    {
      "cell_type": "code",
      "source": [
        "print(\"==> Recall C: %s\" % str(C.shape))\n",
        "print(C)"
      ],
      "outputs": [
        {
          "output_type": "stream",
          "name": "stdout",
          "text": [
            "==> Recall C: (2, 3, 4)\n",
            "[[[ 0  1  2  3]\n",
            "  [ 4  5  6  7]\n",
            "  [ 8  9 10 11]]\n",
            "\n",
            " [[12 13 14 15]\n",
            "  [16 17 18 19]\n",
            "  [20 21 22 23]]]\n"
          ]
        }
      ],
      "execution_count": 27,
      "metadata": {
        "deletable": false,
        "editable": false,
        "nbgrader": {
          "grade": false,
          "locked": true,
          "solution": false
        }
      }
    },
    {
      "cell_type": "code",
      "source": [
        "C_view = C[1, 0::2, 1::2] # Question: What does this produce?\n",
        "print (\"==> C_view: %s\" % str (C_view.shape))\n",
        "print (C_view)"
      ],
      "outputs": [
        {
          "output_type": "stream",
          "name": "stdout",
          "text": [
            "==> C_view: (2, 2)\n",
            "[[13 15]\n",
            " [21 23]]\n"
          ]
        }
      ],
      "execution_count": 28,
      "metadata": {
        "deletable": false,
        "editable": false,
        "nbgrader": {
          "grade": false,
          "locked": true,
          "solution": false
        }
      }
    },
    {
      "cell_type": "code",
      "source": [
        "C_view[:, :] = -C_view[::-1, ::-1] # Question: What does this do?\n",
        "print (C_view)"
      ],
      "outputs": [
        {
          "output_type": "stream",
          "name": "stdout",
          "text": [
            "[[-23 -21]\n",
            " [-15 -13]]\n"
          ]
        }
      ],
      "execution_count": 29,
      "metadata": {
        "deletable": false,
        "editable": false,
        "nbgrader": {
          "grade": false,
          "locked": true,
          "solution": false
        }
      }
    },
    {
      "cell_type": "code",
      "source": [
        "print (C)"
      ],
      "outputs": [
        {
          "output_type": "stream",
          "name": "stdout",
          "text": [
            "[[[  0   1   2   3]\n",
            "  [  4   5   6   7]\n",
            "  [  8   9  10  11]]\n",
            "\n",
            " [[ 12 -23  14 -21]\n",
            "  [ 16  17  18  19]\n",
            "  [ 20 -15  22 -13]]]\n"
          ]
        }
      ],
      "execution_count": 30,
      "metadata": {
        "deletable": false,
        "editable": false,
        "nbgrader": {
          "grade": false,
          "locked": true,
          "solution": false
        }
      }
    },
    {
      "cell_type": "markdown",
      "source": [
        "You can force a copy using the `.copy()` method:"
      ],
      "metadata": {
        "deletable": false,
        "editable": false,
        "nbgrader": {
          "grade": false,
          "locked": true,
          "solution": false
        }
      }
    },
    {
      "cell_type": "code",
      "source": [
        "C_copy = C[1, 0::2, 1::2].copy ()\n",
        "C_copy[:, :] = -C_copy[::-1, ::-1]\n",
        "\n",
        "print (\"==> C_view:\")\n",
        "print (C_view)\n",
        "\n",
        "print (\"\\n==> C_copy:\")\n",
        "print (C_copy)"
      ],
      "outputs": [
        {
          "output_type": "stream",
          "name": "stdout",
          "text": [
            "==> C_view:\n",
            "[[-23 -21]\n",
            " [-15 -13]]\n",
            "\n",
            "==> C_copy:\n",
            "[[13 15]\n",
            " [21 23]]\n"
          ]
        }
      ],
      "execution_count": 31,
      "metadata": {
        "deletable": false,
        "editable": false,
        "nbgrader": {
          "grade": false,
          "locked": true,
          "solution": false
        }
      }
    },
    {
      "cell_type": "markdown",
      "source": [
        "And to check whether two Numpy array variables point to the same object, you can use the `numpy.may_share_memory()` function:"
      ],
      "metadata": {
        "deletable": false,
        "editable": false,
        "nbgrader": {
          "grade": false,
          "locked": true,
          "solution": false
        }
      }
    },
    {
      "cell_type": "code",
      "source": [
        "print (\"C and C_view share memory: %s\" % np.may_share_memory (C, C_view))\n",
        "print (\"C and C_copy share memory: %s\" % np.may_share_memory (C, C_copy))"
      ],
      "outputs": [
        {
          "output_type": "stream",
          "name": "stdout",
          "text": [
            "C and C_view share memory: True\n",
            "C and C_copy share memory: False\n"
          ]
        }
      ],
      "execution_count": 32,
      "metadata": {
        "deletable": false,
        "editable": false,
        "nbgrader": {
          "grade": false,
          "locked": true,
          "solution": false
        }
      }
    },
    {
      "cell_type": "markdown",
      "source": [
        "## Indirect addressing\n",
        "\n",
        "Two other common ways to index a Numpy array are to use a boolean mask or to use a set of integer indices."
      ],
      "metadata": {
        "deletable": false,
        "editable": false,
        "nbgrader": {
          "grade": false,
          "locked": true,
          "solution": false
        }
      }
    },
    {
      "cell_type": "code",
      "source": [
        "np.random.seed(3)\n",
        "x = np.random.randint(0, 20, 15) # 15 random ints in [0, 20)\n",
        "print(x)"
      ],
      "outputs": [
        {
          "output_type": "stream",
          "name": "stdout",
          "text": [
            "[10  3  8  0 19 10 11  9 10  6  0 12  7 14 17]\n"
          ]
        }
      ],
      "execution_count": 34,
      "metadata": {
        "deletable": false,
        "editable": false,
        "nbgrader": {
          "grade": false,
          "locked": true,
          "solution": false
        }
      }
    },
    {
      "cell_type": "code",
      "source": [
        "# Pull out an arbitrary subset of elements\n",
        "inds = np.array([3, 7, 8, 12])\n",
        "print(x[inds])"
      ],
      "outputs": [
        {
          "output_type": "stream",
          "name": "stdout",
          "text": [
            "[ 0  9 10  7]\n"
          ]
        }
      ],
      "execution_count": 35,
      "metadata": {
        "deletable": false,
        "editable": false,
        "nbgrader": {
          "grade": false,
          "locked": true,
          "solution": false
        }
      }
    },
    {
      "cell_type": "markdown",
      "source": [
        "Before looking at how to use a boolean mask for indexing, let's create one.\n",
        "\n",
        "**Exercise 3** (1 point). Given the input array, `x[:]`, above, create an array, `mask_mult_3[:]` such that `mask_mult_3[i]` is true only if `x[i]` is a positive multiple of 3."
      ],
      "metadata": {
        "deletable": false,
        "editable": false,
        "nbgrader": {
          "grade": false,
          "locked": true,
          "solution": false
        }
      }
    },
    {
      "cell_type": "code",
      "source": [
        "###\n",
        "### YOUR CODE HERE\n",
        "###\n",
        "mask_mult_3 = (x>0) & (x%3 == 0)"
      ],
      "outputs": [],
      "execution_count": 36,
      "metadata": {
        "collapsed": true,
        "deletable": false,
        "nbgrader": {
          "checksum": "8e07e2c94176962381e0f8b39cf70602",
          "grade": false,
          "grade_id": "mask_mult_3",
          "locked": false,
          "schema_version": 1,
          "solution": true
        }
      }
    },
    {
      "cell_type": "code",
      "source": [
        "# Test cell: `mask_mult_3_test`\n",
        "\n",
        "print (\"x:\", x)\n",
        "print (\"mask_mult_3:\", mask_mult_3)\n",
        "print (\"==> x[mask_mult_3]:\", x[mask_mult_3])\n",
        "\n",
        "inv_mask_mult_3 = np.invert (mask_mult_3)\n",
        "\n",
        "assert ((x[mask_mult_3] % 3) == np.zeros (sum (mask_mult_3))).all ()\n",
        "assert (((x[inv_mask_mult_3] % 3) != np.zeros (sum (inv_mask_mult_3))) | (x[inv_mask_mult_3] == 0)).all ()"
      ],
      "outputs": [
        {
          "output_type": "stream",
          "name": "stdout",
          "text": [
            "x: [10  3  8  0 19 10 11  9 10  6  0 12  7 14 17]\n",
            "mask_mult_3: [False  True False False False False False  True False  True False  True\n",
            " False False False]\n",
            "==> x[mask_mult_3]: [ 3  9  6 12]\n"
          ]
        }
      ],
      "execution_count": 37,
      "metadata": {
        "deletable": false,
        "editable": false,
        "nbgrader": {
          "checksum": "9a226b25ac1f6e3e9dedc154362f2342",
          "grade": true,
          "grade_id": "mask_mult_3_test",
          "locked": true,
          "points": 1,
          "schema_version": 1,
          "solution": false
        }
      }
    },
    {
      "cell_type": "markdown",
      "source": [
        "**Exercise 4** (3 points). Complete the prime number sieve algorithm, which is illustrated below.\n",
        "\n",
        "<img src=\"https://github.com/cse6040/labs-fa17/raw/master/lab10-numpy/prime-sieve.png\" alt=\"Exercise: Extract these slices\" width=\"480\">\n",
        "\n",
        "That is, given a positive integer $n$, the algorithm iterates from $i \\in \\{2, 3, 4, \\ldots, \\left\\lfloor\\sqrt{n}\\right\\rfloor\\}$, repeatedly \"crossing out\" values that are strict multiples of $i$. \"Crossing out\" means maintaining an array of, say, booleans, and setting values that are multiples of $i$ to `False`."
      ],
      "metadata": {
        "deletable": false,
        "editable": false,
        "nbgrader": {
          "grade": false,
          "locked": true,
          "solution": false
        }
      }
    },
    {
      "cell_type": "markdown",
      "source": [
        "**From Wiki: Sieve of Eratosthenes** \n",
        "\n",
        "In mathematics, the Sieve of Eratosthenes is an ancient algorithm for finding all prime numbers up to any given limit. It does so by iteratively marking as composite (i.e., not prime) the multiples of each prime, starting with the first prime number, 2. The multiples of a given prime are generated as a sequence of numbers starting from that prime, with constant difference between them that is equal to that prime.[1] This is the sieve's key distinction from using trial division to sequentially test each candidate number for divisibility by each prime."
      ],
      "metadata": {}
    },
    {
      "cell_type": "code",
      "source": [
        "from math import sqrt\n",
        "\n",
        "def sieve(n):\n",
        "    \"\"\"\n",
        "    Returns the prime number 'sieve' shown above.\n",
        "    \n",
        "    That is, this function returns an array `X[0:n+1]`\n",
        "    such that `X[i]` is true if and only if `i` is prime.\n",
        "    \"\"\"\n",
        "    is_prime = np.empty(n+1, dtype=bool) # the \"sieve\"\n",
        "\n",
        "    # Initial values\n",
        "    is_prime[0:2] = False # {0, 1} are _not_ considered prime\n",
        "    is_prime[2:] = True # All other values might be prime\n",
        "\n",
        "    # Implement the sieving loop\n",
        "    ###\n",
        "    ### YOUR CODE HERE\n",
        "    ###\n",
        "    for i in range(2, int(sqrt(n))+1):\n",
        "        is_prime[2*i::i] = False\n",
        "    \n",
        "    \n",
        "    return is_prime\n",
        "\n",
        "# Prints your primes\n",
        "print(\"==> Primes through 20:\\n\", np.nonzero(sieve(20))[0])"
      ],
      "outputs": [
        {
          "output_type": "stream",
          "name": "stdout",
          "text": [
            "==> Primes through 20:\n",
            " [ 2  3  5  7 11 13 17 19]\n"
          ]
        }
      ],
      "execution_count": 39,
      "metadata": {
        "deletable": false,
        "nbgrader": {
          "checksum": "2eeb476bfd7cfcf266c8af9efe5cc8de",
          "grade": false,
          "grade_id": "prime_sieve",
          "locked": false,
          "schema_version": 1,
          "solution": true
        }
      }
    },
    {
      "cell_type": "code",
      "source": [
        "# Test cell: `prime_sieve_test`\n",
        "\n",
        "is_prime = sieve(20)\n",
        "assert len (is_prime) == 21\n",
        "assert (is_prime == np.array([False, False, True, True, False, True, False, True, False, False, False, True, False, True, False, False, False, True, False, True, False])).all()"
      ],
      "outputs": [],
      "execution_count": 40,
      "metadata": {
        "collapsed": true,
        "deletable": false,
        "editable": false,
        "nbgrader": {
          "checksum": "99a64fc0190abc8cdba6386398befdb5",
          "grade": true,
          "grade_id": "prime_sieve_test",
          "locked": true,
          "points": 3,
          "schema_version": 1,
          "solution": false
        }
      }
    },
    {
      "cell_type": "markdown",
      "source": [
        "**Fin!** If you've reached this point and everything executed without error, you can submit this part and move on to the next one."
      ],
      "metadata": {
        "deletable": false,
        "editable": false,
        "nbgrader": {
          "grade": false,
          "locked": true,
          "solution": false
        }
      }
    }
  ],
  "metadata": {
    "anaconda-cloud": [],
    "celltoolbar": "Create Assignment",
    "kernelspec": {
      "name": "python3",
      "language": "python",
      "display_name": "Python 3"
    },
    "language_info": {
      "name": "python",
      "version": "3.7.3",
      "mimetype": "text/x-python",
      "codemirror_mode": {
        "name": "ipython",
        "version": 3
      },
      "pygments_lexer": "ipython3",
      "nbconvert_exporter": "python",
      "file_extension": ".py"
    },
    "kernel_info": {
      "name": "python3"
    },
    "nteract": {
      "version": "0.15.0"
    }
  },
  "nbformat": 4,
  "nbformat_minor": 1
}